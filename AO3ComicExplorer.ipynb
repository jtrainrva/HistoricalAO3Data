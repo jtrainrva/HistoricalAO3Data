{
  "nbformat": 4,
  "nbformat_minor": 0,
  "metadata": {
    "colab": {
      "provenance": [],
      "authorship_tag": "ABX9TyM49n0yHHfdNZpzm5Ls195X",
      "include_colab_link": true
    },
    "kernelspec": {
      "name": "python3",
      "display_name": "Python 3"
    },
    "language_info": {
      "name": "python"
    }
  },
  "cells": [
    {
      "cell_type": "markdown",
      "metadata": {
        "id": "view-in-github",
        "colab_type": "text"
      },
      "source": [
        "<a href=\"https://colab.research.google.com/github/jtrainrva/HistoricalAO3Data/blob/main/AO3ComicExplorer.ipynb\" target=\"_parent\"><img src=\"https://colab.research.google.com/assets/colab-badge.svg\" alt=\"Open In Colab\"/></a>"
      ]
    },
    {
      "cell_type": "markdown",
      "source": [
        "Simple interface for comparing how the number of fictions published for different comicbook fandoms evolved over time. I collected the data by copying and pasting historical records of https://archiveofourown.org/media/Cartoons%20*a*%20Comics%20*a*%20Graphic%20Novels/fandoms taken from archive.org. See https://github.com/jtrainrva/HistoricalAO3Data/tree/main for raw data and Anime data."
      ],
      "metadata": {
        "id": "WOlpYl0d_JPW"
      }
    },
    {
      "cell_type": "code",
      "source": [
        "!pip install -q dash\n",
        "!pip install -q pandas\n",
        "!pip install -q dash_bootstrap_components"
      ],
      "metadata": {
        "id": "TkCQ_W7BAnuX"
      },
      "execution_count": 19,
      "outputs": []
    },
    {
      "cell_type": "code",
      "execution_count": 20,
      "metadata": {
        "colab": {
          "base_uri": "https://localhost:8080/",
          "height": 671
        },
        "id": "NMIkIXWF7Q6A",
        "outputId": "8ebe133c-84d4-4b6e-acf1-ffe6dc55579a"
      },
      "outputs": [
        {
          "output_type": "display_data",
          "data": {
            "text/plain": [
              "<IPython.core.display.Javascript object>"
            ],
            "application/javascript": [
              "(async (port, path, width, height, cache, element) => {\n",
              "    if (!google.colab.kernel.accessAllowed && !cache) {\n",
              "      return;\n",
              "    }\n",
              "    element.appendChild(document.createTextNode(''));\n",
              "    const url = await google.colab.kernel.proxyPort(port, {cache});\n",
              "    const iframe = document.createElement('iframe');\n",
              "    iframe.src = new URL(path, url).toString();\n",
              "    iframe.height = height;\n",
              "    iframe.width = width;\n",
              "    iframe.style.border = 0;\n",
              "    iframe.allow = [\n",
              "        'accelerometer',\n",
              "        'autoplay',\n",
              "        'camera',\n",
              "        'clipboard-read',\n",
              "        'clipboard-write',\n",
              "        'gyroscope',\n",
              "        'magnetometer',\n",
              "        'microphone',\n",
              "        'serial',\n",
              "        'usb',\n",
              "        'xr-spatial-tracking',\n",
              "    ].join('; ');\n",
              "    element.appendChild(iframe);\n",
              "  })(8050, \"/\", \"100%\", 650, false, window.element)"
            ]
          },
          "metadata": {}
        }
      ],
      "source": [
        "from dash import Dash, dcc, html, Input, Output\n",
        "import plotly.express as px\n",
        "import pandas as pd\n",
        "import dash_bootstrap_components as dbc\n",
        "\n",
        "app = Dash(__name__)\n",
        "\n",
        "df = pd.read_csv('https://raw.githubusercontent.com/jtrainrva/HistoricalAO3Data/main/Comics/fic_data.csv')\n",
        "\n",
        "app.layout = html.Div([\n",
        "    html.H4('Number of Fictions Published on Archive of Our Own'),\n",
        "    dbc.Row([\n",
        "        dbc.Col([\n",
        "            dcc.Dropdown(\n",
        "                id='category',\n",
        "                value=['Teenage Mutant Ninja Turtles - All Media Types','Avatar: The Last Airbender', 'Danny Phantom', 'Teen Titans - All Media Types'],\n",
        "                clearable=False,\n",
        "                options=df['Fandom'].unique(),\n",
        "                multi=True),\n",
        "        ], width=4)\n",
        "    ]),\n",
        "    dcc.Graph(id=\"graph\"),\n",
        "])\n",
        "\n",
        "\n",
        "@app.callback(\n",
        "    Output(\"graph\", \"figure\"),\n",
        "    Input(\"category\", \"value\"))\n",
        "def update_line_chart(fandoms):\n",
        "    #df = px.data.gapminder() # replace with your own data source\n",
        "    mask = df['Fandom'].isin(fandoms)\n",
        "    fig = px.line(df[mask],\n",
        "        x=\"Date Collected\", y=\"Count\", color='Fandom')\n",
        "    return fig\n",
        "\n",
        "\n",
        "app.run_server(debug=True)"
      ]
    }
  ]
}